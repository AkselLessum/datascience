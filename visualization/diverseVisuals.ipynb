{
 "cells": [
  {
   "cell_type": "code",
   "execution_count": null,
   "metadata": {
    "vscode": {
     "languageId": "plaintext"
    }
   },
   "outputs": [],
   "source": [
    "import pandas as pd\n",
    "import matplotlib.pyplot as plt"
   ]
  },
  {
   "cell_type": "code",
   "execution_count": null,
   "metadata": {
    "vscode": {
     "languageId": "plaintext"
    }
   },
   "outputs": [],
   "source": [
    "energydata = pd.read_csv('energy_import_export.csv')\n",
    "solardata = pd.read_csv('solar_self_consumption_main_building.csv')\n",
    "weatherdata = pd.read_csv('timeseries_met_data_202409050822.csv')\n",
    "\n",
    "export_over0 = energydata[(energydata['Verdi'] > 0) & (energydata['Retning'] == 'EXPORT')]\n",
    "export_not_solar = export_over0[(energydata['Måler-Id'] != 707057500042745649)]\n",
    "print((export_not_solar.sort_values(by=['Verdi'])).tail(10))\n"
   ]
  },
  {
   "cell_type": "code",
   "execution_count": null,
   "metadata": {
    "vscode": {
     "languageId": "plaintext"
    }
   },
   "outputs": [],
   "source": [
    "energyvalue = energydata.drop(columns=['Energikilde', 'Retning', 'Målernavn'])\n",
    "energyvalue['time'] = pd.to_datetime(energyvalue['Tidspunkt'])\n",
    "energyvalue['date'] = energyvalue['time'].dt.date  # Create a new 'date' column\n",
    "month_energy = energyvalue\n",
    "daily_data = energyvalue.groupby(['Måler-Id', 'date'], as_index=False)['Verdi'].mean()  # Take the mean per day\n",
    "\n",
    "energyvalue.head(10)"
   ]
  },
  {
   "cell_type": "code",
   "execution_count": null,
   "metadata": {
    "vscode": {
     "languageId": "plaintext"
    }
   },
   "outputs": [],
   "source": [
    "plt.figure(figsize=(10, 6))\n",
    "\n",
    "for meter_id in energyvalue['Måler-Id'].unique():\n",
    "    subset = daily_data[daily_data['Måler-Id'] == meter_id]\n",
    "    plt.plot(subset['date'], subset['Verdi'], label=meter_id, linestyle='-', markersize=5, fillstyle='none')\n",
    "\n",
    "plt.title('Value Over Time for Each Building')\n",
    "plt.xlabel('Date')\n",
    "plt.ylabel('Value (kWh)')\n",
    "plt.legend(title='ID', bbox_to_anchor=(1.05, 1), loc='upper left')\n",
    "plt.xticks(rotation=45)\n",
    "\n",
    "plt.tight_layout()\n",
    "plt.show()"
   ]
  }
 ],
 "metadata": {
  "language_info": {
   "name": "python"
  }
 },
 "nbformat": 4,
 "nbformat_minor": 2
}
